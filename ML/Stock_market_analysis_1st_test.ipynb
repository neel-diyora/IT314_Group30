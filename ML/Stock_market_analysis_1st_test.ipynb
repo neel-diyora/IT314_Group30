{
  "nbformat": 4,
  "nbformat_minor": 0,
  "metadata": {
    "colab": {
      "provenance": []
    },
    "kernelspec": {
      "name": "python3",
      "display_name": "Python 3"
    },
    "language_info": {
      "name": "python"
    }
  },
  "cells": [
    {
      "cell_type": "markdown",
      "source": [
        "**Importing the libraries.**"
      ],
      "metadata": {
        "id": "9UWVexbe8G_K"
      }
    },
    {
      "cell_type": "code",
      "execution_count": null,
      "metadata": {
        "id": "FwqsBUU-SbmS"
      },
      "outputs": [],
      "source": [
        "import numpy as np\n",
        "import pandas as pd\n",
        "import matplotlib.pyplot as plt\n",
        "from pandas_datareader import data as pdr\n",
        "import datetime as dt\n",
        "\n",
        "from sklearn.preprocessing import MinMaxScaler\n",
        "from keras.models import Sequential\n",
        "from keras.layers import Dense, Dropout, LSTM\n",
        "\n",
        "import yfinance as yf\n",
        "yf.pdr_override()"
      ]
    },
    {
      "cell_type": "markdown",
      "source": [
        "**Importing the data.**"
      ],
      "metadata": {
        "id": "CSDGaaNb8L6z"
      }
    },
    {
      "cell_type": "code",
      "source": [
        "#Loading data using Pandas Datareader\n",
        "company = 'TSLA'\n",
        "\n",
        "start = dt.datetime(2013,9,8)\n",
        "end = dt.datetime(2022,9,8)\n",
        "#Loading Tesla stock data from Yahoo Finance\n",
        "data = pdr.get_data_yahoo(company, start, end)"
      ],
      "metadata": {
        "colab": {
          "base_uri": "https://localhost:8080/"
        },
        "id": "42vOz-sKVi-1",
        "outputId": "de58dfdd-acff-4b27-9af6-0c9c68525930"
      },
      "execution_count": null,
      "outputs": [
        {
          "output_type": "stream",
          "name": "stdout",
          "text": [
            "\r[*********************100%%**********************]  1 of 1 completed\n"
          ]
        }
      ]
    },
    {
      "cell_type": "code",
      "source": [
        "data"
      ],
      "metadata": {
        "colab": {
          "base_uri": "https://localhost:8080/",
          "height": 455
        },
        "id": "Wv37P8NYY8ns",
        "outputId": "b536a122-f4ab-45b7-d3ec-cf7c5f6ebb85"
      },
      "execution_count": null,
      "outputs": [
        {
          "output_type": "execute_result",
          "data": {
            "text/plain": [
              "                  Open        High         Low       Close   Adj Close  \\\n",
              "Date                                                                     \n",
              "2013-09-09   10.874667   10.966667   10.567333   10.713333   10.713333   \n",
              "2013-09-10   10.763333   11.166667   10.708667   11.091333   11.091333   \n",
              "2013-09-11   11.094000   11.193333   10.808667   10.901333   10.901333   \n",
              "2013-09-12   10.933333   11.117333   10.700667   10.995333   10.995333   \n",
              "2013-09-13   10.851333   11.091333   10.810667   11.036000   11.036000   \n",
              "...                ...         ...         ...         ...         ...   \n",
              "2022-08-31  280.619995  281.250000  271.809998  275.609985  275.609985   \n",
              "2022-09-01  272.579987  277.579987  266.149994  277.160004  277.160004   \n",
              "2022-09-02  281.070007  282.350006  269.079987  270.209991  270.209991   \n",
              "2022-09-06  272.679993  275.989990  265.739990  274.420013  274.420013   \n",
              "2022-09-07  273.100006  283.839996  272.269989  283.700012  283.700012   \n",
              "\n",
              "               Volume  \n",
              "Date                   \n",
              "2013-09-09  215167500  \n",
              "2013-09-10  134517000  \n",
              "2013-09-11   87487500  \n",
              "2013-09-12   92400000  \n",
              "2013-09-13   81018000  \n",
              "...               ...  \n",
              "2022-08-31   52107300  \n",
              "2022-09-01   54287000  \n",
              "2022-09-02   50890100  \n",
              "2022-09-06   55860000  \n",
              "2022-09-07   50028900  \n",
              "\n",
              "[2266 rows x 6 columns]"
            ],
            "text/html": [
              "\n",
              "  <div id=\"df-fde2b1fd-0fe3-486a-b36f-ed9355a28070\" class=\"colab-df-container\">\n",
              "    <div>\n",
              "<style scoped>\n",
              "    .dataframe tbody tr th:only-of-type {\n",
              "        vertical-align: middle;\n",
              "    }\n",
              "\n",
              "    .dataframe tbody tr th {\n",
              "        vertical-align: top;\n",
              "    }\n",
              "\n",
              "    .dataframe thead th {\n",
              "        text-align: right;\n",
              "    }\n",
              "</style>\n",
              "<table border=\"1\" class=\"dataframe\">\n",
              "  <thead>\n",
              "    <tr style=\"text-align: right;\">\n",
              "      <th></th>\n",
              "      <th>Open</th>\n",
              "      <th>High</th>\n",
              "      <th>Low</th>\n",
              "      <th>Close</th>\n",
              "      <th>Adj Close</th>\n",
              "      <th>Volume</th>\n",
              "    </tr>\n",
              "    <tr>\n",
              "      <th>Date</th>\n",
              "      <th></th>\n",
              "      <th></th>\n",
              "      <th></th>\n",
              "      <th></th>\n",
              "      <th></th>\n",
              "      <th></th>\n",
              "    </tr>\n",
              "  </thead>\n",
              "  <tbody>\n",
              "    <tr>\n",
              "      <th>2013-09-09</th>\n",
              "      <td>10.874667</td>\n",
              "      <td>10.966667</td>\n",
              "      <td>10.567333</td>\n",
              "      <td>10.713333</td>\n",
              "      <td>10.713333</td>\n",
              "      <td>215167500</td>\n",
              "    </tr>\n",
              "    <tr>\n",
              "      <th>2013-09-10</th>\n",
              "      <td>10.763333</td>\n",
              "      <td>11.166667</td>\n",
              "      <td>10.708667</td>\n",
              "      <td>11.091333</td>\n",
              "      <td>11.091333</td>\n",
              "      <td>134517000</td>\n",
              "    </tr>\n",
              "    <tr>\n",
              "      <th>2013-09-11</th>\n",
              "      <td>11.094000</td>\n",
              "      <td>11.193333</td>\n",
              "      <td>10.808667</td>\n",
              "      <td>10.901333</td>\n",
              "      <td>10.901333</td>\n",
              "      <td>87487500</td>\n",
              "    </tr>\n",
              "    <tr>\n",
              "      <th>2013-09-12</th>\n",
              "      <td>10.933333</td>\n",
              "      <td>11.117333</td>\n",
              "      <td>10.700667</td>\n",
              "      <td>10.995333</td>\n",
              "      <td>10.995333</td>\n",
              "      <td>92400000</td>\n",
              "    </tr>\n",
              "    <tr>\n",
              "      <th>2013-09-13</th>\n",
              "      <td>10.851333</td>\n",
              "      <td>11.091333</td>\n",
              "      <td>10.810667</td>\n",
              "      <td>11.036000</td>\n",
              "      <td>11.036000</td>\n",
              "      <td>81018000</td>\n",
              "    </tr>\n",
              "    <tr>\n",
              "      <th>...</th>\n",
              "      <td>...</td>\n",
              "      <td>...</td>\n",
              "      <td>...</td>\n",
              "      <td>...</td>\n",
              "      <td>...</td>\n",
              "      <td>...</td>\n",
              "    </tr>\n",
              "    <tr>\n",
              "      <th>2022-08-31</th>\n",
              "      <td>280.619995</td>\n",
              "      <td>281.250000</td>\n",
              "      <td>271.809998</td>\n",
              "      <td>275.609985</td>\n",
              "      <td>275.609985</td>\n",
              "      <td>52107300</td>\n",
              "    </tr>\n",
              "    <tr>\n",
              "      <th>2022-09-01</th>\n",
              "      <td>272.579987</td>\n",
              "      <td>277.579987</td>\n",
              "      <td>266.149994</td>\n",
              "      <td>277.160004</td>\n",
              "      <td>277.160004</td>\n",
              "      <td>54287000</td>\n",
              "    </tr>\n",
              "    <tr>\n",
              "      <th>2022-09-02</th>\n",
              "      <td>281.070007</td>\n",
              "      <td>282.350006</td>\n",
              "      <td>269.079987</td>\n",
              "      <td>270.209991</td>\n",
              "      <td>270.209991</td>\n",
              "      <td>50890100</td>\n",
              "    </tr>\n",
              "    <tr>\n",
              "      <th>2022-09-06</th>\n",
              "      <td>272.679993</td>\n",
              "      <td>275.989990</td>\n",
              "      <td>265.739990</td>\n",
              "      <td>274.420013</td>\n",
              "      <td>274.420013</td>\n",
              "      <td>55860000</td>\n",
              "    </tr>\n",
              "    <tr>\n",
              "      <th>2022-09-07</th>\n",
              "      <td>273.100006</td>\n",
              "      <td>283.839996</td>\n",
              "      <td>272.269989</td>\n",
              "      <td>283.700012</td>\n",
              "      <td>283.700012</td>\n",
              "      <td>50028900</td>\n",
              "    </tr>\n",
              "  </tbody>\n",
              "</table>\n",
              "<p>2266 rows × 6 columns</p>\n",
              "</div>\n",
              "    <div class=\"colab-df-buttons\">\n",
              "\n",
              "  <div class=\"colab-df-container\">\n",
              "    <button class=\"colab-df-convert\" onclick=\"convertToInteractive('df-fde2b1fd-0fe3-486a-b36f-ed9355a28070')\"\n",
              "            title=\"Convert this dataframe to an interactive table.\"\n",
              "            style=\"display:none;\">\n",
              "\n",
              "  <svg xmlns=\"http://www.w3.org/2000/svg\" height=\"24px\" viewBox=\"0 -960 960 960\">\n",
              "    <path d=\"M120-120v-720h720v720H120Zm60-500h600v-160H180v160Zm220 220h160v-160H400v160Zm0 220h160v-160H400v160ZM180-400h160v-160H180v160Zm440 0h160v-160H620v160ZM180-180h160v-160H180v160Zm440 0h160v-160H620v160Z\"/>\n",
              "  </svg>\n",
              "    </button>\n",
              "\n",
              "  <style>\n",
              "    .colab-df-container {\n",
              "      display:flex;\n",
              "      gap: 12px;\n",
              "    }\n",
              "\n",
              "    .colab-df-convert {\n",
              "      background-color: #E8F0FE;\n",
              "      border: none;\n",
              "      border-radius: 50%;\n",
              "      cursor: pointer;\n",
              "      display: none;\n",
              "      fill: #1967D2;\n",
              "      height: 32px;\n",
              "      padding: 0 0 0 0;\n",
              "      width: 32px;\n",
              "    }\n",
              "\n",
              "    .colab-df-convert:hover {\n",
              "      background-color: #E2EBFA;\n",
              "      box-shadow: 0px 1px 2px rgba(60, 64, 67, 0.3), 0px 1px 3px 1px rgba(60, 64, 67, 0.15);\n",
              "      fill: #174EA6;\n",
              "    }\n",
              "\n",
              "    .colab-df-buttons div {\n",
              "      margin-bottom: 4px;\n",
              "    }\n",
              "\n",
              "    [theme=dark] .colab-df-convert {\n",
              "      background-color: #3B4455;\n",
              "      fill: #D2E3FC;\n",
              "    }\n",
              "\n",
              "    [theme=dark] .colab-df-convert:hover {\n",
              "      background-color: #434B5C;\n",
              "      box-shadow: 0px 1px 3px 1px rgba(0, 0, 0, 0.15);\n",
              "      filter: drop-shadow(0px 1px 2px rgba(0, 0, 0, 0.3));\n",
              "      fill: #FFFFFF;\n",
              "    }\n",
              "  </style>\n",
              "\n",
              "    <script>\n",
              "      const buttonEl =\n",
              "        document.querySelector('#df-fde2b1fd-0fe3-486a-b36f-ed9355a28070 button.colab-df-convert');\n",
              "      buttonEl.style.display =\n",
              "        google.colab.kernel.accessAllowed ? 'block' : 'none';\n",
              "\n",
              "      async function convertToInteractive(key) {\n",
              "        const element = document.querySelector('#df-fde2b1fd-0fe3-486a-b36f-ed9355a28070');\n",
              "        const dataTable =\n",
              "          await google.colab.kernel.invokeFunction('convertToInteractive',\n",
              "                                                    [key], {});\n",
              "        if (!dataTable) return;\n",
              "\n",
              "        const docLinkHtml = 'Like what you see? Visit the ' +\n",
              "          '<a target=\"_blank\" href=https://colab.research.google.com/notebooks/data_table.ipynb>data table notebook</a>'\n",
              "          + ' to learn more about interactive tables.';\n",
              "        element.innerHTML = '';\n",
              "        dataTable['output_type'] = 'display_data';\n",
              "        await google.colab.output.renderOutput(dataTable, element);\n",
              "        const docLink = document.createElement('div');\n",
              "        docLink.innerHTML = docLinkHtml;\n",
              "        element.appendChild(docLink);\n",
              "      }\n",
              "    </script>\n",
              "  </div>\n",
              "\n",
              "\n",
              "<div id=\"df-ead27f85-1c7e-4113-81ba-1b92de902d45\">\n",
              "  <button class=\"colab-df-quickchart\" onclick=\"quickchart('df-ead27f85-1c7e-4113-81ba-1b92de902d45')\"\n",
              "            title=\"Suggest charts.\"\n",
              "            style=\"display:none;\">\n",
              "\n",
              "<svg xmlns=\"http://www.w3.org/2000/svg\" height=\"24px\"viewBox=\"0 0 24 24\"\n",
              "     width=\"24px\">\n",
              "    <g>\n",
              "        <path d=\"M19 3H5c-1.1 0-2 .9-2 2v14c0 1.1.9 2 2 2h14c1.1 0 2-.9 2-2V5c0-1.1-.9-2-2-2zM9 17H7v-7h2v7zm4 0h-2V7h2v10zm4 0h-2v-4h2v4z\"/>\n",
              "    </g>\n",
              "</svg>\n",
              "  </button>\n",
              "\n",
              "<style>\n",
              "  .colab-df-quickchart {\n",
              "      --bg-color: #E8F0FE;\n",
              "      --fill-color: #1967D2;\n",
              "      --hover-bg-color: #E2EBFA;\n",
              "      --hover-fill-color: #174EA6;\n",
              "      --disabled-fill-color: #AAA;\n",
              "      --disabled-bg-color: #DDD;\n",
              "  }\n",
              "\n",
              "  [theme=dark] .colab-df-quickchart {\n",
              "      --bg-color: #3B4455;\n",
              "      --fill-color: #D2E3FC;\n",
              "      --hover-bg-color: #434B5C;\n",
              "      --hover-fill-color: #FFFFFF;\n",
              "      --disabled-bg-color: #3B4455;\n",
              "      --disabled-fill-color: #666;\n",
              "  }\n",
              "\n",
              "  .colab-df-quickchart {\n",
              "    background-color: var(--bg-color);\n",
              "    border: none;\n",
              "    border-radius: 50%;\n",
              "    cursor: pointer;\n",
              "    display: none;\n",
              "    fill: var(--fill-color);\n",
              "    height: 32px;\n",
              "    padding: 0;\n",
              "    width: 32px;\n",
              "  }\n",
              "\n",
              "  .colab-df-quickchart:hover {\n",
              "    background-color: var(--hover-bg-color);\n",
              "    box-shadow: 0 1px 2px rgba(60, 64, 67, 0.3), 0 1px 3px 1px rgba(60, 64, 67, 0.15);\n",
              "    fill: var(--button-hover-fill-color);\n",
              "  }\n",
              "\n",
              "  .colab-df-quickchart-complete:disabled,\n",
              "  .colab-df-quickchart-complete:disabled:hover {\n",
              "    background-color: var(--disabled-bg-color);\n",
              "    fill: var(--disabled-fill-color);\n",
              "    box-shadow: none;\n",
              "  }\n",
              "\n",
              "  .colab-df-spinner {\n",
              "    border: 2px solid var(--fill-color);\n",
              "    border-color: transparent;\n",
              "    border-bottom-color: var(--fill-color);\n",
              "    animation:\n",
              "      spin 1s steps(1) infinite;\n",
              "  }\n",
              "\n",
              "  @keyframes spin {\n",
              "    0% {\n",
              "      border-color: transparent;\n",
              "      border-bottom-color: var(--fill-color);\n",
              "      border-left-color: var(--fill-color);\n",
              "    }\n",
              "    20% {\n",
              "      border-color: transparent;\n",
              "      border-left-color: var(--fill-color);\n",
              "      border-top-color: var(--fill-color);\n",
              "    }\n",
              "    30% {\n",
              "      border-color: transparent;\n",
              "      border-left-color: var(--fill-color);\n",
              "      border-top-color: var(--fill-color);\n",
              "      border-right-color: var(--fill-color);\n",
              "    }\n",
              "    40% {\n",
              "      border-color: transparent;\n",
              "      border-right-color: var(--fill-color);\n",
              "      border-top-color: var(--fill-color);\n",
              "    }\n",
              "    60% {\n",
              "      border-color: transparent;\n",
              "      border-right-color: var(--fill-color);\n",
              "    }\n",
              "    80% {\n",
              "      border-color: transparent;\n",
              "      border-right-color: var(--fill-color);\n",
              "      border-bottom-color: var(--fill-color);\n",
              "    }\n",
              "    90% {\n",
              "      border-color: transparent;\n",
              "      border-bottom-color: var(--fill-color);\n",
              "    }\n",
              "  }\n",
              "</style>\n",
              "\n",
              "  <script>\n",
              "    async function quickchart(key) {\n",
              "      const quickchartButtonEl =\n",
              "        document.querySelector('#' + key + ' button');\n",
              "      quickchartButtonEl.disabled = true;  // To prevent multiple clicks.\n",
              "      quickchartButtonEl.classList.add('colab-df-spinner');\n",
              "      try {\n",
              "        const charts = await google.colab.kernel.invokeFunction(\n",
              "            'suggestCharts', [key], {});\n",
              "      } catch (error) {\n",
              "        console.error('Error during call to suggestCharts:', error);\n",
              "      }\n",
              "      quickchartButtonEl.classList.remove('colab-df-spinner');\n",
              "      quickchartButtonEl.classList.add('colab-df-quickchart-complete');\n",
              "    }\n",
              "    (() => {\n",
              "      let quickchartButtonEl =\n",
              "        document.querySelector('#df-ead27f85-1c7e-4113-81ba-1b92de902d45 button');\n",
              "      quickchartButtonEl.style.display =\n",
              "        google.colab.kernel.accessAllowed ? 'block' : 'none';\n",
              "    })();\n",
              "  </script>\n",
              "</div>\n",
              "    </div>\n",
              "  </div>\n"
            ]
          },
          "metadata": {},
          "execution_count": 3
        }
      ]
    },
    {
      "cell_type": "code",
      "source": [
        "data.info()"
      ],
      "metadata": {
        "colab": {
          "base_uri": "https://localhost:8080/"
        },
        "id": "7I0_cNrud_4-",
        "outputId": "0855d292-4898-44c8-e5c3-3248d5782f22"
      },
      "execution_count": null,
      "outputs": [
        {
          "output_type": "stream",
          "name": "stdout",
          "text": [
            "<class 'pandas.core.frame.DataFrame'>\n",
            "DatetimeIndex: 2266 entries, 2013-09-09 to 2022-09-07\n",
            "Data columns (total 6 columns):\n",
            " #   Column     Non-Null Count  Dtype  \n",
            "---  ------     --------------  -----  \n",
            " 0   Open       2266 non-null   float64\n",
            " 1   High       2266 non-null   float64\n",
            " 2   Low        2266 non-null   float64\n",
            " 3   Close      2266 non-null   float64\n",
            " 4   Adj Close  2266 non-null   float64\n",
            " 5   Volume     2266 non-null   int64  \n",
            "dtypes: float64(5), int64(1)\n",
            "memory usage: 123.9 KB\n"
          ]
        }
      ]
    },
    {
      "cell_type": "markdown",
      "source": [
        "2266 entries in total."
      ],
      "metadata": {
        "id": "jwsJpuGDgGx3"
      }
    },
    {
      "cell_type": "markdown",
      "source": [
        "The closing price is the last price at which the stock is traded during the regular trading day. A stock’s closing price is the standard benchmark used by investors to track its performance over time."
      ],
      "metadata": {
        "id": "cIOm60MgjD3T"
      }
    },
    {
      "cell_type": "markdown",
      "source": [
        "While the closing price simply refers to the cost of shares at the end of the day, the adjusted closing price takes dividends, stock splits, and new stock offerings into account. The adjusted closing price is a more accurate indicator of stock value since it starts where the closing price finishes."
      ],
      "metadata": {
        "id": "3cBZ6QEYkM5s"
      }
    },
    {
      "cell_type": "code",
      "source": [
        "plt.plot(data['Adj Close'])\n",
        "plt.xlabel(None)\n",
        "plt.ylabel('Adj Close')\n",
        "plt.title('Closed Price of Tesla')\n",
        "plt.grid(True)\n",
        "plt.show()"
      ],
      "metadata": {
        "colab": {
          "base_uri": "https://localhost:8080/",
          "height": 452
        },
        "id": "XikH56mCgJMt",
        "outputId": "2f750188-4168-4312-f6d4-85d416b50c28"
      },
      "execution_count": null,
      "outputs": [
        {
          "output_type": "display_data",
          "data": {
            "text/plain": [
              "<Figure size 640x480 with 1 Axes>"
            ],
            "image/png": "[encoded data removed]"
          },
          "metadata": {}
        }
      ]
    },
    {
      "cell_type": "markdown",
      "source": [
        "**Preparing the data.**"
      ],
      "metadata": {
        "id": "McCe6jIy778t"
      }
    },
    {
      "cell_type": "code",
      "source": [
        "scaler = MinMaxScaler(feature_range=(0,1))\n",
        "scaled_data = scaler.fit_transform(data['Adj Close'].values.reshape(-1,1))"
      ],
      "metadata": {
        "id": "rn1_NoYJyjIa"
      },
      "execution_count": null,
      "outputs": []
    },
    {
      "cell_type": "code",
      "source": [
        "scaled_data"
      ],
      "metadata": {
        "colab": {
          "base_uri": "https://localhost:8080/"
        },
        "id": "0Y5YYkC1jbet",
        "outputId": "251d366c-bea3-4b99-8901-c29bbfb5121a"
      },
      "execution_count": null,
      "outputs": [
        {
          "output_type": "execute_result",
          "data": {
            "text/plain": [
              "array([[0.00666772],\n",
              "       [0.00760817],\n",
              "       [0.00713545],\n",
              "       ...,\n",
              "       [0.6522835 ],\n",
              "       [0.66275785],\n",
              "       [0.68584606]])"
            ]
          },
          "metadata": {},
          "execution_count": 7
        }
      ]
    },
    {
      "cell_type": "markdown",
      "source": [
        "**Setting window size of 60 and creating the training data set.**"
      ],
      "metadata": {
        "id": "fxsK5ZKc7-va"
      }
    },
    {
      "cell_type": "markdown",
      "source": [
        "Neural networks, including LSTMs, typically expect input data in the form of NumPy arrays, as they are more efficient for mathematical operations.\n",
        "\n",
        "In LSTM models for time series forecasting, the input data should have 3-dimensional shape with following format:\n",
        "The three-dimensional shape (number_of_samples, number_of_time_steps, number_of_features) is a common format for LSTM input data.\n",
        "\n",
        "Number of samples (or data points): This is given by the first dimension of x_train, represented as x_train.shape[0].\n",
        "\n",
        "Number of time steps: This is given by the second dimension of x_train, represented as x_train.shape[1].\n",
        "\n",
        "Number of features (in this case, it's set to 1): The third dimension is used to represent the number of features. In time series forecasting, you typically have one feature (e.g., historical stock prices), so it's set to 1."
      ],
      "metadata": {
        "id": "lB9ex60c8nq1"
      }
    },
    {
      "cell_type": "code",
      "source": [
        "prediction_days = 60\n",
        "X_train = []\n",
        "Y_train = []\n",
        "\n",
        "for i in range(prediction_days, len(scaled_data)):\n",
        "   X_train.append(scaled_data[i-prediction_days:i, 0])\n",
        "   Y_train.append(scaled_data[i,0])\n",
        "\n",
        "# Converting to numpy arrays.\n",
        "X_train, Y_train = np.array(X_train), np.array(Y_train)\n",
        "\n",
        "#This reshapes the X_train NumPy array to have a three-dimensional shape.\n",
        "X_train = np.reshape(X_train, (X_train.shape[0],X_train.shape[1],1) )"
      ],
      "metadata": {
        "id": "4u8GR-yz2wY0"
      },
      "execution_count": null,
      "outputs": []
    },
    {
      "cell_type": "code",
      "source": [
        "X_train.shape"
      ],
      "metadata": {
        "colab": {
          "base_uri": "https://localhost:8080/"
        },
        "id": "k_pmLubz5ujm",
        "outputId": "e3ecf683-0b91-4366-a7d0-c37f26c7f9b5"
      },
      "execution_count": null,
      "outputs": [
        {
          "output_type": "execute_result",
          "data": {
            "text/plain": [
              "(2206, 60, 1)"
            ]
          },
          "metadata": {},
          "execution_count": 9
        }
      ]
    },
    {
      "cell_type": "markdown",
      "source": [
        "2206 total data entries with 60 entries taken at a time."
      ],
      "metadata": {
        "id": "UgCga1iw7xuZ"
      }
    },
    {
      "cell_type": "markdown",
      "source": [
        "**Creating the LSTM model.**\n"
      ],
      "metadata": {
        "id": "BNdm2mjw8R4u"
      }
    },
    {
      "cell_type": "code",
      "source": [
        "model = Sequential()\n",
        "model.add(LSTM(units=50,return_sequences=True,input_shape=(X_train.shape[1], 1)))\n",
        "model.add(Dropout(0.2))\n",
        "model.add(LSTM(units=50,return_sequences=True))\n",
        "model.add(Dropout(0.2))\n",
        "model.add(LSTM(units=50,return_sequences=True))\n",
        "model.add(Dropout(0.2))\n",
        "model.add(LSTM(units=50))\n",
        "model.add(Dropout(0.2))\n",
        "model.add(Dense(units=1)) #Prediction of next closing value\n"
      ],
      "metadata": {
        "id": "AnLNpbmF8U3r"
      },
      "execution_count": null,
      "outputs": []
    },
    {
      "cell_type": "markdown",
      "source": [
        "**Training the model**"
      ],
      "metadata": {
        "id": "IslqerlgBYL-"
      }
    },
    {
      "cell_type": "code",
      "source": [
        "model.compile(optimizer='adam',loss='mean_squared_error')\n"
      ],
      "metadata": {
        "id": "-7PfGHH__3ta"
      },
      "execution_count": null,
      "outputs": []
    },
    {
      "cell_type": "code",
      "source": [
        "model.fit(X_train,Y_train,epochs=25,batch_size=32)"
      ],
      "metadata": {
        "colab": {
          "base_uri": "https://localhost:8080/"
        },
        "id": "FwHvFNnIATWI",
        "outputId": "639b14e0-f796-4394-d8a7-eb69b2441960"
      },
      "execution_count": null,
      "outputs": [
        {
          "output_type": "stream",
          "name": "stdout",
          "text": [
            "Epoch 1/25\n",
            "69/69 [==============================] - 18s 135ms/step - loss: 0.0072\n",
            "Epoch 2/25\n",
            "69/69 [==============================] - 10s 147ms/step - loss: 0.0034\n",
            "Epoch 3/25\n",
            "69/69 [==============================] - 10s 147ms/step - loss: 0.0028\n",
            "Epoch 4/25\n",
            "69/69 [==============================] - 10s 141ms/step - loss: 0.0024\n",
            "Epoch 5/25\n",
            "69/69 [==============================] - 9s 130ms/step - loss: 0.0024\n",
            "Epoch 6/25\n",
            "69/69 [==============================] - 12s 172ms/step - loss: 0.0019\n",
            "Epoch 7/25\n",
            "69/69 [==============================] - 10s 146ms/step - loss: 0.0023\n",
            "Epoch 8/25\n",
            "69/69 [==============================] - 10s 146ms/step - loss: 0.0019\n",
            "Epoch 9/25\n",
            "69/69 [==============================] - 9s 127ms/step - loss: 0.0018\n",
            "Epoch 10/25\n",
            "69/69 [==============================] - 10s 147ms/step - loss: 0.0017\n",
            "Epoch 11/25\n",
            "69/69 [==============================] - 10s 149ms/step - loss: 0.0015\n",
            "Epoch 12/25\n",
            "69/69 [==============================] - 10s 147ms/step - loss: 0.0016\n",
            "Epoch 13/25\n",
            "69/69 [==============================] - 9s 136ms/step - loss: 0.0016\n",
            "Epoch 14/25\n",
            "69/69 [==============================] - 10s 139ms/step - loss: 0.0016\n",
            "Epoch 15/25\n",
            "69/69 [==============================] - 10s 146ms/step - loss: 0.0014\n",
            "Epoch 16/25\n",
            "69/69 [==============================] - 10s 146ms/step - loss: 0.0014\n",
            "Epoch 17/25\n",
            "69/69 [==============================] - 9s 134ms/step - loss: 0.0016\n",
            "Epoch 18/25\n",
            "69/69 [==============================] - 10s 138ms/step - loss: 0.0014\n",
            "Epoch 19/25\n",
            "69/69 [==============================] - 10s 148ms/step - loss: 0.0014\n",
            "Epoch 20/25\n",
            "69/69 [==============================] - 10s 147ms/step - loss: 0.0012\n",
            "Epoch 21/25\n",
            "69/69 [==============================] - 11s 166ms/step - loss: 0.0014\n",
            "Epoch 22/25\n",
            "69/69 [==============================] - 9s 128ms/step - loss: 0.0014\n",
            "Epoch 23/25\n",
            "69/69 [==============================] - 10s 145ms/step - loss: 0.0012\n",
            "Epoch 24/25\n",
            "69/69 [==============================] - 10s 148ms/step - loss: 0.0011\n",
            "Epoch 25/25\n",
            "69/69 [==============================] - 10s 151ms/step - loss: 0.0011\n"
          ]
        },
        {
          "output_type": "execute_result",
          "data": {
            "text/plain": [
              "<keras.callbacks.History at 0x7e8d2c2e0c40>"
            ]
          },
          "metadata": {},
          "execution_count": 12
        }
      ]
    },
    {
      "cell_type": "markdown",
      "source": [
        "## **Testing model accuracy on existing data**"
      ],
      "metadata": {
        "id": "2UvfNpafQPtF"
      }
    },
    {
      "cell_type": "markdown",
      "source": [
        "**Load Test Data**"
      ],
      "metadata": {
        "id": "9tl-VLXwkzan"
      }
    },
    {
      "cell_type": "code",
      "source": [
        "test_start = dt.datetime(2022,9,8)\n",
        "test_end = dt.datetime.now()\n",
        "\n",
        "test_data = pdr.get_data_yahoo(company, test_start, test_end)"
      ],
      "metadata": {
        "colab": {
          "base_uri": "https://localhost:8080/"
        },
        "id": "KVyANKF9kyTw",
        "outputId": "e743c91d-73a7-4395-c27b-a8cad40d8768"
      },
      "execution_count": null,
      "outputs": [
        {
          "output_type": "stream",
          "name": "stdout",
          "text": [
            "\r[*********************100%%**********************]  1 of 1 completed\n"
          ]
        }
      ]
    },
    {
      "cell_type": "code",
      "source": [
        "test_data"
      ],
      "metadata": {
        "colab": {
          "base_uri": "https://localhost:8080/",
          "height": 455
        },
        "id": "3bH-tOyslRDG",
        "outputId": "94fb16ca-fd39-4b79-954f-b7e77b044044"
      },
      "execution_count": null,
      "outputs": [
        {
          "output_type": "execute_result",
          "data": {
            "text/plain": [
              "                  Open        High         Low       Close   Adj Close  \\\n",
              "Date                                                                     \n",
              "2022-09-08  281.299988  289.500000  279.760010  289.260010  289.260010   \n",
              "2022-09-09  291.670013  299.850006  291.250000  299.679993  299.679993   \n",
              "2022-09-12  300.720001  305.489990  300.399994  304.420013  304.420013   \n",
              "2022-09-13  292.899994  297.399994  290.399994  292.130005  292.130005   \n",
              "2022-09-14  292.239990  306.000000  291.640015  302.609985  302.609985   \n",
              "...                ...         ...         ...         ...         ...   \n",
              "2023-08-31  255.979996  261.179993  255.050003  258.079987  258.079987   \n",
              "2023-09-01  257.260010  259.079987  242.009995  245.009995  245.009995   \n",
              "2023-09-05  245.000000  258.000000  244.860001  256.489990  256.489990   \n",
              "2023-09-06  255.139999  255.389999  245.059998  251.919998  251.919998   \n",
              "2023-09-07  245.070007  252.809998  243.270004  251.490005  251.490005   \n",
              "\n",
              "               Volume  \n",
              "Date                   \n",
              "2022-09-08   53713100  \n",
              "2022-09-09   54338100  \n",
              "2022-09-12   48674600  \n",
              "2022-09-13   68229600  \n",
              "2022-09-14   72628700  \n",
              "...               ...  \n",
              "2023-08-31  108861700  \n",
              "2023-09-01  132272500  \n",
              "2023-09-05  129469600  \n",
              "2023-09-06  116959800  \n",
              "2023-09-07  115100200  \n",
              "\n",
              "[251 rows x 6 columns]"
            ],
            "text/html": [
              "\n",
              "  <div id=\"df-354bacfd-618d-4d79-a693-9d8b5def3888\" class=\"colab-df-container\">\n",
              "    <div>\n",
              "<style scoped>\n",
              "    .dataframe tbody tr th:only-of-type {\n",
              "        vertical-align: middle;\n",
              "    }\n",
              "\n",
              "    .dataframe tbody tr th {\n",
              "        vertical-align: top;\n",
              "    }\n",
              "\n",
              "    .dataframe thead th {\n",
              "        text-align: right;\n",
              "    }\n",
              "</style>\n",
              "<table border=\"1\" class=\"dataframe\">\n",
              "  <thead>\n",
              "    <tr style=\"text-align: right;\">\n",
              "      <th></th>\n",
              "      <th>Open</th>\n",
              "      <th>High</th>\n",
              "      <th>Low</th>\n",
              "      <th>Close</th>\n",
              "      <th>Adj Close</th>\n",
              "      <th>Volume</th>\n",
              "    </tr>\n",
              "    <tr>\n",
              "      <th>Date</th>\n",
              "      <th></th>\n",
              "      <th></th>\n",
              "      <th></th>\n",
              "      <th></th>\n",
              "      <th></th>\n",
              "      <th></th>\n",
              "    </tr>\n",
              "  </thead>\n",
              "  <tbody>\n",
              "    <tr>\n",
              "      <th>2022-09-08</th>\n",
              "      <td>281.299988</td>\n",
              "      <td>289.500000</td>\n",
              "      <td>279.760010</td>\n",
              "      <td>289.260010</td>\n",
              "      <td>289.260010</td>\n",
              "      <td>53713100</td>\n",
              "    </tr>\n",
              "    <tr>\n",
              "      <th>2022-09-09</th>\n",
              "      <td>291.670013</td>\n",
              "      <td>299.850006</td>\n",
              "      <td>291.250000</td>\n",
              "      <td>299.679993</td>\n",
              "      <td>299.679993</td>\n",
              "      <td>54338100</td>\n",
              "    </tr>\n",
              "    <tr>\n",
              "      <th>2022-09-12</th>\n",
              "      <td>300.720001</td>\n",
              "      <td>305.489990</td>\n",
              "      <td>300.399994</td>\n",
              "      <td>304.420013</td>\n",
              "      <td>304.420013</td>\n",
              "      <td>48674600</td>\n",
              "    </tr>\n",
              "    <tr>\n",
              "      <th>2022-09-13</th>\n",
              "      <td>292.899994</td>\n",
              "      <td>297.399994</td>\n",
              "      <td>290.399994</td>\n",
              "      <td>292.130005</td>\n",
              "      <td>292.130005</td>\n",
              "      <td>68229600</td>\n",
              "    </tr>\n",
              "    <tr>\n",
              "      <th>2022-09-14</th>\n",
              "      <td>292.239990</td>\n",
              "      <td>306.000000</td>\n",
              "      <td>291.640015</td>\n",
              "      <td>302.609985</td>\n",
              "      <td>302.609985</td>\n",
              "      <td>72628700</td>\n",
              "    </tr>\n",
              "    <tr>\n",
              "      <th>...</th>\n",
              "      <td>...</td>\n",
              "      <td>...</td>\n",
              "      <td>...</td>\n",
              "      <td>...</td>\n",
              "      <td>...</td>\n",
              "      <td>...</td>\n",
              "    </tr>\n",
              "    <tr>\n",
              "      <th>2023-08-31</th>\n",
              "      <td>255.979996</td>\n",
              "      <td>261.179993</td>\n",
              "      <td>255.050003</td>\n",
              "      <td>258.079987</td>\n",
              "      <td>258.079987</td>\n",
              "      <td>108861700</td>\n",
              "    </tr>\n",
              "    <tr>\n",
              "      <th>2023-09-01</th>\n",
              "      <td>257.260010</td>\n",
              "      <td>259.079987</td>\n",
              "      <td>242.009995</td>\n",
              "      <td>245.009995</td>\n",
              "      <td>245.009995</td>\n",
              "      <td>132272500</td>\n",
              "    </tr>\n",
              "    <tr>\n",
              "      <th>2023-09-05</th>\n",
              "      <td>245.000000</td>\n",
              "      <td>258.000000</td>\n",
              "      <td>244.860001</td>\n",
              "      <td>256.489990</td>\n",
              "      <td>256.489990</td>\n",
              "      <td>129469600</td>\n",
              "    </tr>\n",
              "    <tr>\n",
              "      <th>2023-09-06</th>\n",
              "      <td>255.139999</td>\n",
              "      <td>255.389999</td>\n",
              "      <td>245.059998</td>\n",
              "      <td>251.919998</td>\n",
              "      <td>251.919998</td>\n",
              "      <td>116959800</td>\n",
              "    </tr>\n",
              "    <tr>\n",
              "      <th>2023-09-07</th>\n",
              "      <td>245.070007</td>\n",
              "      <td>252.809998</td>\n",
              "      <td>243.270004</td>\n",
              "      <td>251.490005</td>\n",
              "      <td>251.490005</td>\n",
              "      <td>115100200</td>\n",
              "    </tr>\n",
              "  </tbody>\n",
              "</table>\n",
              "<p>251 rows × 6 columns</p>\n",
              "</div>\n",
              "    <div class=\"colab-df-buttons\">\n",
              "\n",
              "  <div class=\"colab-df-container\">\n",
              "    <button class=\"colab-df-convert\" onclick=\"convertToInteractive('df-354bacfd-618d-4d79-a693-9d8b5def3888')\"\n",
              "            title=\"Convert this dataframe to an interactive table.\"\n",
              "            style=\"display:none;\">\n",
              "\n",
              "  <svg xmlns=\"http://www.w3.org/2000/svg\" height=\"24px\" viewBox=\"0 -960 960 960\">\n",
              "    <path d=\"M120-120v-720h720v720H120Zm60-500h600v-160H180v160Zm220 220h160v-160H400v160Zm0 220h160v-160H400v160ZM180-400h160v-160H180v160Zm440 0h160v-160H620v160ZM180-180h160v-160H180v160Zm440 0h160v-160H620v160Z\"/>\n",
              "  </svg>\n",
              "    </button>\n",
              "\n",
              "  <style>\n",
              "    .colab-df-container {\n",
              "      display:flex;\n",
              "      gap: 12px;\n",
              "    }\n",
              "\n",
              "    .colab-df-convert {\n",
              "      background-color: #E8F0FE;\n",
              "      border: none;\n",
              "      border-radius: 50%;\n",
              "      cursor: pointer;\n",
              "      display: none;\n",
              "      fill: #1967D2;\n",
              "      height: 32px;\n",
              "      padding: 0 0 0 0;\n",
              "      width: 32px;\n",
              "    }\n",
              "\n",
              "    .colab-df-convert:hover {\n",
              "      background-color: #E2EBFA;\n",
              "      box-shadow: 0px 1px 2px rgba(60, 64, 67, 0.3), 0px 1px 3px 1px rgba(60, 64, 67, 0.15);\n",
              "      fill: #174EA6;\n",
              "    }\n",
              "\n",
              "    .colab-df-buttons div {\n",
              "      margin-bottom: 4px;\n",
              "    }\n",
              "\n",
              "    [theme=dark] .colab-df-convert {\n",
              "      background-color: #3B4455;\n",
              "      fill: #D2E3FC;\n",
              "    }\n",
              "\n",
              "    [theme=dark] .colab-df-convert:hover {\n",
              "      background-color: #434B5C;\n",
              "      box-shadow: 0px 1px 3px 1px rgba(0, 0, 0, 0.15);\n",
              "      filter: drop-shadow(0px 1px 2px rgba(0, 0, 0, 0.3));\n",
              "      fill: #FFFFFF;\n",
              "    }\n",
              "  </style>\n",
              "\n",
              "    <script>\n",
              "      const buttonEl =\n",
              "        document.querySelector('#df-354bacfd-618d-4d79-a693-9d8b5def3888 button.colab-df-convert');\n",
              "      buttonEl.style.display =\n",
              "        google.colab.kernel.accessAllowed ? 'block' : 'none';\n",
              "\n",
              "      async function convertToInteractive(key) {\n",
              "        const element = document.querySelector('#df-354bacfd-618d-4d79-a693-9d8b5def3888');\n",
              "        const dataTable =\n",
              "          await google.colab.kernel.invokeFunction('convertToInteractive',\n",
              "                                                    [key], {});\n",
              "        if (!dataTable) return;\n",
              "\n",
              "        const docLinkHtml = 'Like what you see? Visit the ' +\n",
              "          '<a target=\"_blank\" href=https://colab.research.google.com/notebooks/data_table.ipynb>data table notebook</a>'\n",
              "          + ' to learn more about interactive tables.';\n",
              "        element.innerHTML = '';\n",
              "        dataTable['output_type'] = 'display_data';\n",
              "        await google.colab.output.renderOutput(dataTable, element);\n",
              "        const docLink = document.createElement('div');\n",
              "        docLink.innerHTML = docLinkHtml;\n",
              "        element.appendChild(docLink);\n",
              "      }\n",
              "    </script>\n",
              "  </div>\n",
              "\n",
              "\n",
              "<div id=\"df-e71e63db-fc9e-434d-9192-5f5e0ebcc500\">\n",
              "  <button class=\"colab-df-quickchart\" onclick=\"quickchart('df-e71e63db-fc9e-434d-9192-5f5e0ebcc500')\"\n",
              "            title=\"Suggest charts.\"\n",
              "            style=\"display:none;\">\n",
              "\n",
              "<svg xmlns=\"http://www.w3.org/2000/svg\" height=\"24px\"viewBox=\"0 0 24 24\"\n",
              "     width=\"24px\">\n",
              "    <g>\n",
              "        <path d=\"M19 3H5c-1.1 0-2 .9-2 2v14c0 1.1.9 2 2 2h14c1.1 0 2-.9 2-2V5c0-1.1-.9-2-2-2zM9 17H7v-7h2v7zm4 0h-2V7h2v10zm4 0h-2v-4h2v4z\"/>\n",
              "    </g>\n",
              "</svg>\n",
              "  </button>\n",
              "\n",
              "<style>\n",
              "  .colab-df-quickchart {\n",
              "      --bg-color: #E8F0FE;\n",
              "      --fill-color: #1967D2;\n",
              "      --hover-bg-color: #E2EBFA;\n",
              "      --hover-fill-color: #174EA6;\n",
              "      --disabled-fill-color: #AAA;\n",
              "      --disabled-bg-color: #DDD;\n",
              "  }\n",
              "\n",
              "  [theme=dark] .colab-df-quickchart {\n",
              "      --bg-color: #3B4455;\n",
              "      --fill-color: #D2E3FC;\n",
              "      --hover-bg-color: #434B5C;\n",
              "      --hover-fill-color: #FFFFFF;\n",
              "      --disabled-bg-color: #3B4455;\n",
              "      --disabled-fill-color: #666;\n",
              "  }\n",
              "\n",
              "  .colab-df-quickchart {\n",
              "    background-color: var(--bg-color);\n",
              "    border: none;\n",
              "    border-radius: 50%;\n",
              "    cursor: pointer;\n",
              "    display: none;\n",
              "    fill: var(--fill-color);\n",
              "    height: 32px;\n",
              "    padding: 0;\n",
              "    width: 32px;\n",
              "  }\n",
              "\n",
              "  .colab-df-quickchart:hover {\n",
              "    background-color: var(--hover-bg-color);\n",
              "    box-shadow: 0 1px 2px rgba(60, 64, 67, 0.3), 0 1px 3px 1px rgba(60, 64, 67, 0.15);\n",
              "    fill: var(--button-hover-fill-color);\n",
              "  }\n",
              "\n",
              "  .colab-df-quickchart-complete:disabled,\n",
              "  .colab-df-quickchart-complete:disabled:hover {\n",
              "    background-color: var(--disabled-bg-color);\n",
              "    fill: var(--disabled-fill-color);\n",
              "    box-shadow: none;\n",
              "  }\n",
              "\n",
              "  .colab-df-spinner {\n",
              "    border: 2px solid var(--fill-color);\n",
              "    border-color: transparent;\n",
              "    border-bottom-color: var(--fill-color);\n",
              "    animation:\n",
              "      spin 1s steps(1) infinite;\n",
              "  }\n",
              "\n",
              "  @keyframes spin {\n",
              "    0% {\n",
              "      border-color: transparent;\n",
              "      border-bottom-color: var(--fill-color);\n",
              "      border-left-color: var(--fill-color);\n",
              "    }\n",
              "    20% {\n",
              "      border-color: transparent;\n",
              "      border-left-color: var(--fill-color);\n",
              "      border-top-color: var(--fill-color);\n",
              "    }\n",
              "    30% {\n",
              "      border-color: transparent;\n",
              "      border-left-color: var(--fill-color);\n",
              "      border-top-color: var(--fill-color);\n",
              "      border-right-color: var(--fill-color);\n",
              "    }\n",
              "    40% {\n",
              "      border-color: transparent;\n",
              "      border-right-color: var(--fill-color);\n",
              "      border-top-color: var(--fill-color);\n",
              "    }\n",
              "    60% {\n",
              "      border-color: transparent;\n",
              "      border-right-color: var(--fill-color);\n",
              "    }\n",
              "    80% {\n",
              "      border-color: transparent;\n",
              "      border-right-color: var(--fill-color);\n",
              "      border-bottom-color: var(--fill-color);\n",
              "    }\n",
              "    90% {\n",
              "      border-color: transparent;\n",
              "      border-bottom-color: var(--fill-color);\n",
              "    }\n",
              "  }\n",
              "</style>\n",
              "\n",
              "  <script>\n",
              "    async function quickchart(key) {\n",
              "      const quickchartButtonEl =\n",
              "        document.querySelector('#' + key + ' button');\n",
              "      quickchartButtonEl.disabled = true;  // To prevent multiple clicks.\n",
              "      quickchartButtonEl.classList.add('colab-df-spinner');\n",
              "      try {\n",
              "        const charts = await google.colab.kernel.invokeFunction(\n",
              "            'suggestCharts', [key], {});\n",
              "      } catch (error) {\n",
              "        console.error('Error during call to suggestCharts:', error);\n",
              "      }\n",
              "      quickchartButtonEl.classList.remove('colab-df-spinner');\n",
              "      quickchartButtonEl.classList.add('colab-df-quickchart-complete');\n",
              "    }\n",
              "    (() => {\n",
              "      let quickchartButtonEl =\n",
              "        document.querySelector('#df-e71e63db-fc9e-434d-9192-5f5e0ebcc500 button');\n",
              "      quickchartButtonEl.style.display =\n",
              "        google.colab.kernel.accessAllowed ? 'block' : 'none';\n",
              "    })();\n",
              "  </script>\n",
              "</div>\n",
              "    </div>\n",
              "  </div>\n"
            ]
          },
          "metadata": {},
          "execution_count": 14
        }
      ]
    },
    {
      "cell_type": "markdown",
      "source": [
        "**Preparing the data and creating test dataset**"
      ],
      "metadata": {
        "id": "Exm-3MLQOjYM"
      }
    },
    {
      "cell_type": "code",
      "source": [
        "actual_prices = test_data['Adj Close'].values\n",
        "\n",
        "total_dataset = pd.concat((data['Adj Close'],test_data['Adj Close']),axis=0)\n",
        "\n",
        "inputs = total_dataset[len(total_dataset)-len(test_data)-prediction_days:].values.reshape(-1,1)\n",
        "inputs = scaler.transform(inputs)\n",
        "\n",
        "X_test=[]\n",
        "\n",
        "for i in range(prediction_days, len(inputs)):\n",
        "   X_test.append(inputs[i-prediction_days:i, 0])\n",
        "\n",
        "X_test= np.array(X_test)\n",
        "X_test = np.reshape(X_test, (X_test.shape[0],X_test.shape[1],1) )\n",
        "\n"
      ],
      "metadata": {
        "id": "YRj2ewDwleXv"
      },
      "execution_count": null,
      "outputs": []
    },
    {
      "cell_type": "markdown",
      "source": [
        "**Training model on test data**"
      ],
      "metadata": {
        "id": "zInJHlf4O1s5"
      }
    },
    {
      "cell_type": "code",
      "source": [
        "predicted_prices = model.predict(X_test)\n",
        "predicted_prices = scaler.inverse_transform(predicted_prices)\n"
      ],
      "metadata": {
        "colab": {
          "base_uri": "https://localhost:8080/"
        },
        "id": "ncXyogTYOGg3",
        "outputId": "ebe18568-14a2-4fdc-cbf1-6f212ceac66a"
      },
      "execution_count": null,
      "outputs": [
        {
          "output_type": "stream",
          "name": "stdout",
          "text": [
            "8/8 [==============================] - 3s 40ms/step\n"
          ]
        }
      ]
    },
    {
      "cell_type": "markdown",
      "source": [
        "**Plotting the test prediction**"
      ],
      "metadata": {
        "id": "oKWEv4WGO6YX"
      }
    },
    {
      "cell_type": "code",
      "source": [
        "plt.plot(actual_prices,color='b',label=f\"Actual {company} Price\")\n",
        "plt.plot(predicted_prices, color='r',label=f\"Predicted {company} Price\")\n",
        "plt.title(f\"{company} Share Price\")\n",
        "plt.xlabel('Time')\n",
        "plt.ylabel(f'{company} Share Price')\n",
        "plt.legend()\n",
        "plt.show()"
      ],
      "metadata": {
        "colab": {
          "base_uri": "https://localhost:8080/",
          "height": 472
        },
        "id": "JW0ons9lOfLX",
        "outputId": "5c450a43-7293-463f-cc97-f8f7f69980fc"
      },
      "execution_count": null,
      "outputs": [
        {
          "output_type": "display_data",
          "data": {
            "text/plain": [
              "<Figure size 640x480 with 1 Axes>"
            ],
            "image/png": "[encoded data removed]"
          },
          "metadata": {}
        }
      ]
    },
    {
      "cell_type": "markdown",
      "source": [
        "## **Predicting the next day**"
      ],
      "metadata": {
        "id": "Xj8Z8pcRQhpD"
      }
    },
    {
      "cell_type": "markdown",
      "source": [
        "**Creating dataset with next day (day to predict) included**"
      ],
      "metadata": {
        "id": "bMHaj-d3Xdad"
      }
    },
    {
      "cell_type": "code",
      "source": [
        "# Get the most recent 'prediction_days' data points from 'inputs' as input for prediction\n",
        "prediction_input = inputs[-prediction_days:]\n",
        "prediction_input = np.array(prediction_input)\n",
        "\n",
        "# Reshape the input data to match the model's input shape (samples, time steps, features)\n",
        "prediction_input = np.reshape(prediction_input, (1, prediction_days, 1))"
      ],
      "metadata": {
        "id": "U11Kqlt3QtZk"
      },
      "execution_count": null,
      "outputs": []
    },
    {
      "cell_type": "markdown",
      "source": [
        "**Training model on dataset**"
      ],
      "metadata": {
        "id": "V1JWdm_FXs7J"
      }
    },
    {
      "cell_type": "code",
      "source": [
        "prediction = model.predict(prediction_input)\n",
        "prediction = scaler.inverse_transform(prediction)\n",
        "print(f\"Predicted value for the next day: {prediction}\")"
      ],
      "metadata": {
        "colab": {
          "base_uri": "https://localhost:8080/"
        },
        "id": "wrmLGOOKXqw8",
        "outputId": "ef251d58-9c1e-434c-fe5a-8d777ad58b9b"
      },
      "execution_count": null,
      "outputs": [
        {
          "output_type": "stream",
          "name": "stdout",
          "text": [
            "1/1 [==============================] - 0s 38ms/step\n",
            "Predicted value for the next day: [[258.2823]]\n"
          ]
        }
      ]
    },
    {
      "cell_type": "markdown",
      "source": [
        "**Predicting increase or decrease**"
      ],
      "metadata": {
        "id": "HrwOgEusrr8O"
      }
    },
    {
      "cell_type": "code",
      "source": [
        "last_row = test_data.iloc[-1]\n",
        "# Obtain the adjusted closing price of today\n",
        "curr_adj_close_price = last_row['Adj Close']\n",
        "\n",
        "if curr_adj_close_price < prediction :\n",
        "  print(\"Increase\")\n",
        "\n",
        "else:\n",
        "  print(\"Decrease\")\n",
        "\n",
        "\n"
      ],
      "metadata": {
        "colab": {
          "base_uri": "https://localhost:8080/"
        },
        "id": "CqFNSF4pqek9",
        "outputId": "3c50b5c6-9705-45f4-fc0a-802a954af4fb"
      },
      "execution_count": null,
      "outputs": [
        {
          "output_type": "stream",
          "name": "stdout",
          "text": [
            "Increase\n"
          ]
        }
      ]
    }
  ]
}